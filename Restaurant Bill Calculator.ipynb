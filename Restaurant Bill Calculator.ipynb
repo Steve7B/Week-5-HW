{
 "cells": [
  {
   "cell_type": "code",
   "execution_count": 13,
   "metadata": {},
   "outputs": [],
   "source": [
    "def resturant_bill_calculator():\n",
    "    bill = int(input(\"How much money is your total bill? \"))\n",
    "    people = int(input(\"How many people does your party contain? \"))\n",
    "    tip = int(input(\"What percentage of tip do you want to give? \"))\n",
    "    tips = (tip) / 100 * (bill)\n",
    "    print(\"your total tips is\",tips)\n",
    "    total_bill = (bill) + (tips)\n",
    "    print(\"your total bill is\",total_bill)\n",
    "    indivisual_bill = ((bill) + (tips)) / (people)\n",
    "    print(\"the indivisual bill is\",indivisual_bill)\n",
    "    indivisual_tip = (tips) / (people)\n",
    "    print(\"the indivisual tip is\",indivisual_tip)"
   ]
  },
  {
   "cell_type": "code",
   "execution_count": 14,
   "metadata": {},
   "outputs": [
    {
     "name": "stdout",
     "output_type": "stream",
     "text": [
      "How much money is your total bill? 100\n",
      "How many people does your party contain? 10\n",
      "What percentage of tip do you want to give? 20\n",
      "your total tips is 20.0\n",
      "your total bill is 120.0\n",
      "the indivisual bill is 12.0\n",
      "the indivisual tip is 2.0\n"
     ]
    }
   ],
   "source": [
    "resturant_bill_calculator()"
   ]
  }
 ],
 "metadata": {
  "kernelspec": {
   "display_name": "Python 3",
   "language": "python",
   "name": "python3"
  },
  "language_info": {
   "codemirror_mode": {
    "name": "ipython",
    "version": 3
   },
   "file_extension": ".py",
   "mimetype": "text/x-python",
   "name": "python",
   "nbconvert_exporter": "python",
   "pygments_lexer": "ipython3",
   "version": "3.8.3"
  }
 },
 "nbformat": 4,
 "nbformat_minor": 4
}
